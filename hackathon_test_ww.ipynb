{
  "nbformat": 4,
  "nbformat_minor": 0,
  "metadata": {
    "colab": {
      "name": "hackathon-test-1",
      "version": "0.3.2",
      "provenance": [],
      "collapsed_sections": [],
      "include_colab_link": true
    },
    "kernelspec": {
      "name": "python3",
      "display_name": "Python 3"
    }
  },
  "cells": [
    {
      "cell_type": "markdown",
      "metadata": {
        "id": "view-in-github",
        "colab_type": "text"
      },
      "source": [
        "<a href=\"https://colab.research.google.com/github/vivihengww/ThinkStats2/blob/master/hackathon_test_ww.ipynb\" target=\"_parent\"><img src=\"https://colab.research.google.com/assets/colab-badge.svg\" alt=\"Open In Colab\"/></a>"
      ]
    },
    {
      "cell_type": "code",
      "metadata": {
        "id": "GLY_pyqR1ISb",
        "colab_type": "code",
        "outputId": "2c9c6f91-ebc2-4089-8bd9-7f039a722c1d",
        "colab": {
          "base_uri": "https://localhost:8080/",
          "height": 54
        }
      },
      "source": [
        "!git clone https://github.com/Charitable-Analytics-International/AI4Good---Meza-OCR-Challenge"
      ],
      "execution_count": 0,
      "outputs": [
        {
          "output_type": "stream",
          "text": [
            "fatal: destination path 'AI4Good---Meza-OCR-Challenge' already exists and is not an empty directory.\n"
          ],
          "name": "stdout"
        }
      ]
    },
    {
      "cell_type": "markdown",
      "metadata": {
        "id": "4k28BIkprNgI",
        "colab_type": "text"
      },
      "source": [
        "Testing, is it working"
      ]
    },
    {
      "cell_type": "code",
      "metadata": {
        "id": "Do2IfRe3nTWo",
        "colab_type": "code",
        "outputId": "361c3dfd-7cf7-4546-f14a-b9a23175ec07",
        "colab": {
          "base_uri": "https://localhost:8080/",
          "height": 119
        }
      },
      "source": [
        "!git clone https://github.com/colaprograms/2019-hackathon-ocr-wymbah"
      ],
      "execution_count": 0,
      "outputs": [
        {
          "output_type": "stream",
          "text": [
            "Cloning into '2019-hackathon-ocr-wymbah'...\n",
            "remote: Enumerating objects: 9, done.\u001b[K\n",
            "remote: Counting objects: 100% (9/9), done.\u001b[K\n",
            "remote: Compressing objects: 100% (7/7), done.\u001b[K\n",
            "remote: Total 9 (delta 1), reused 5 (delta 0), pack-reused 0\u001b[K\n",
            "Unpacking objects: 100% (9/9), done.\n"
          ],
          "name": "stdout"
        }
      ]
    },
    {
      "cell_type": "markdown",
      "metadata": {
        "id": "XSwfPz2ngjVU",
        "colab_type": "text"
      },
      "source": [
        ""
      ]
    },
    {
      "cell_type": "code",
      "metadata": {
        "id": "cTqtOoLS1PAi",
        "colab_type": "code",
        "colab": {}
      },
      "source": [
        "import os, torch, re, sys\n",
        "import numpy as np\n",
        "import matplotlib.pyplot as p\n",
        "import random, PIL"
      ],
      "execution_count": 0,
      "outputs": []
    },
    {
      "cell_type": "code",
      "metadata": {
        "id": "fFr0gEuBULVc",
        "colab_type": "code",
        "outputId": "aeb7abed-f67a-495e-b9b2-c806649ade6d",
        "colab": {
          "base_uri": "https://localhost:8080/",
          "height": 54
        }
      },
      "source": [
        "#from google.colab import drive\n",
        "#drive.mount(\"/content/gdrive\")\n",
        "#PATH = \"/content/gdrive/My Drive/code/\""
      ],
      "execution_count": 0,
      "outputs": [
        {
          "output_type": "stream",
          "text": [
            "Drive already mounted at /content/gdrive; to attempt to forcibly remount, call drive.mount(\"/content/gdrive\", force_remount=True).\n"
          ],
          "name": "stdout"
        }
      ]
    },
    {
      "cell_type": "code",
      "metadata": {
        "id": "clQnNsOKRViB",
        "colab_type": "code",
        "colab": {}
      },
      "source": [
        "TRAINING_PATH = \"/content/AI4Good---Meza-OCR-Challenge\"\n",
        "\n",
        "def my(*f):\n",
        "  return os.path.join(PATH, *f)\n",
        "def data_file(*f):\n",
        "  return os.path.join(TRAINING_PATH, \"cell_images\", *f)\n",
        "def train_file(*f):\n",
        "  return data_file(\"training_set\", *f)\n",
        "def valid_file(*f):\n",
        "  return data_file(\"validation_set\", *f)\n",
        "\n",
        "def parse(*filename):\n",
        "  f = open(data_file(*filename))\n",
        "  first = True\n",
        "  line = next(f)\n",
        "  assert line == \"filename;value\\n\"\n",
        "  out = {}\n",
        "  for line in f:\n",
        "    filename, value = line.strip().split(\";\")\n",
        "    out[filename] = value\n",
        "    if not re.match(r\"-?[0-9]*[.,]?[0-9]*\", value):\n",
        "      print(\"bad value:\", value)\n",
        "      raise Exception()\n",
        "  return out\n",
        "\n",
        "training = parse(\"training_set_values.txt\")\n",
        "validate = parse(\"validation_set_values.txt\")"
      ],
      "execution_count": 0,
      "outputs": []
    },
    {
      "cell_type": "code",
      "metadata": {
        "id": "Q5lE37fJNLbZ",
        "colab_type": "code",
        "colab": {}
      },
      "source": [
        "train_items = list(training.items())"
      ],
      "execution_count": 0,
      "outputs": []
    },
    {
      "cell_type": "code",
      "metadata": {
        "id": "tNBRZvxR3KMW",
        "colab_type": "code",
        "outputId": "8af3005e-b185-4728-8756-1a1b134a31f1",
        "colab": {
          "base_uri": "https://localhost:8080/",
          "height": 241
        }
      },
      "source": [
        "filename, val = random.choice(train_items)\n",
        "\n",
        "def to_buffer(filename):\n",
        "  i = PIL.Image.open(filename)\n",
        "  a = np.array(i.getdata())\n",
        "  return a.reshape((i.size[1], i.size[0], 3)).astype(np.float64) / 255\n",
        "\n",
        "def clip(buf):\n",
        "  grayscale = np.sum(buf, axis=2)\n",
        "  flat = grayscale.reshape(-1).sort()\n",
        "\n",
        "image = to_buffer(train_file(filename))\n",
        "\n",
        "p.imshow(image)\n",
        "p.show()"
      ],
      "execution_count": 0,
      "outputs": [
        {
          "output_type": "display_data",
          "data": {
            "image/png": "[encoded data removed]",
            "text/plain": [
              "<Figure size 432x288 with 1 Axes>"
            ]
          },
          "metadata": {
            "tags": []
          }
        }
      ]
    },
    {
      "cell_type": "code",
      "metadata": {
        "id": "sQ0u2UwBoFQ_",
        "colab_type": "code",
        "colab": {}
      },
      "source": [
        "# Model"
      ],
      "execution_count": 0,
      "outputs": []
    },
    {
      "cell_type": "code",
      "metadata": {
        "id": "pnOaMykFkhkp",
        "colab_type": "code",
        "colab": {}
      },
      "source": [
        "'''\n",
        "ResNet in PyTorch.\n",
        "For Pre-activation ResNet, see 'preact_resnet.py'.\n",
        "Reference:\n",
        "[1] Kaiming He, Xiangyu Zhang, Shaoqing Ren, Jian Sun\n",
        "    Deep Residual Learning for Image Recognition. arXiv:1512.03385\n",
        "\n",
        "source: https://github.com/kuangliu/pytorch-cifar/blob/master/models/resnet.py\n",
        "'''\n",
        "\n",
        "\n",
        "class BasicBlock(nn.Module):\n",
        "    expansion = 1\n",
        "\n",
        "    def __init__(self, in_planes, planes, stride=1):\n",
        "        super(BasicBlock, self).__init__()\n",
        "        self.conv1 = nn.Conv2d(in_planes,\n",
        "                               planes,\n",
        "                               kernel_size=3,\n",
        "                               stride=stride,\n",
        "                               padding=1,\n",
        "                               bias=False)\n",
        "        self.bn1 = nn.BatchNorm2d(planes)\n",
        "        self.conv2 = nn.Conv2d(planes,\n",
        "                               planes,\n",
        "                               kernel_size=3,\n",
        "                               stride=1,\n",
        "                               padding=1,\n",
        "                               bias=False)\n",
        "        self.bn2 = nn.BatchNorm2d(planes)\n",
        "\n",
        "        self.shortcut = nn.Sequential()\n",
        "        if stride != 1 or in_planes != self.expansion * planes:\n",
        "            self.shortcut = nn.Sequential(\n",
        "                nn.Conv2d(in_planes,\n",
        "                          self.expansion * planes,\n",
        "                          kernel_size=1,\n",
        "                          stride=stride,\n",
        "                          bias=False),\n",
        "                nn.BatchNorm2d(self.expansion * planes)\n",
        "            )\n",
        "\n",
        "    def forward(self, x):\n",
        "        out = F.relu(self.bn1(self.conv1(x)))\n",
        "        out = self.bn2(self.conv2(out))\n",
        "        out += self.shortcut(x)\n",
        "        out = F.relu(out)\n",
        "        return out\n",
        "\n",
        "\n",
        "class Bottleneck(nn.Module):\n",
        "    expansion = 4\n",
        "\n",
        "    def __init__(self, in_planes, planes, stride=1):\n",
        "        super(Bottleneck, self).__init__()\n",
        "        self.conv1 = nn.Conv2d(in_planes,\n",
        "                               planes,\n",
        "                               kernel_size=1,\n",
        "                               bias=False)\n",
        "        self.bn1 = nn.BatchNorm2d(planes)\n",
        "        self.conv2 = nn.Conv2d(planes,\n",
        "                               planes,\n",
        "                               kernel_size=3,\n",
        "                               stride=stride,\n",
        "                               padding=1,\n",
        "                               bias=False)\n",
        "        self.bn2 = nn.BatchNorm2d(planes)\n",
        "        self.conv3 = nn.Conv2d(planes,\n",
        "                               self.expansion * planes,\n",
        "                               kernel_size=1,\n",
        "                               bias=False)\n",
        "        self.bn3 = nn.BatchNorm2d(self.expansion * planes)\n",
        "\n",
        "        self.shortcut = nn.Sequential()\n",
        "        if stride != 1 or in_planes != self.expansion * planes:\n",
        "            self.shortcut = nn.Sequential(\n",
        "                nn.Conv2d(in_planes,\n",
        "                          self.expansion * planes,\n",
        "                          kernel_size=1,\n",
        "                          stride=stride,\n",
        "                          bias=False),\n",
        "                nn.BatchNorm2d(self.expansion * planes)\n",
        "            )\n",
        "\n",
        "    def forward(self, x):\n",
        "        out = F.relu(self.bn1(self.conv1(x)))\n",
        "        out = F.relu(self.bn2(self.conv2(out)))\n",
        "        out = self.bn3(self.conv3(out))\n",
        "        out += self.shortcut(x)\n",
        "        out = F.relu(out)\n",
        "        return out\n",
        "\n",
        "\n",
        "class ResNet(nn.Module):\n",
        "    def __init__(self, block, num_blocks, num_classes=7):\n",
        "        super(ResNet, self).__init__()\n",
        "        self.in_planes = 64\n",
        "\n",
        "        self.conv1 = nn.Conv2d(3, 64,\n",
        "                               kernel_size=3,\n",
        "                               stride=1,\n",
        "                               padding=1,\n",
        "                               bias=False)\n",
        "        self.bn1 = nn.BatchNorm2d(64)\n",
        "        self.layer1 = self._make_layer(block, 64, num_blocks[0], stride=1)\n",
        "        self.layer2 = self._make_layer(block, 128, num_blocks[1], stride=2)\n",
        "        self.layer3 = self._make_layer(block, 256, num_blocks[2], stride=2)\n",
        "        self.layer4 = self._make_layer(block, 512, num_blocks[3], stride=2)\n",
        "        self._d_length = nn.Linear(512 * block.expansion, num_classes)\n",
        "        self._d1 = nn.Linear(512 * block.expansion, 10)\n",
        "        self._d2 = nn.Linear(512 * block.expansion, 10)\n",
        "        self._d3 = nn.Linear(512 * block.expansion, 10)\n",
        "        self._d4 = nn.Linear(512 * block.expansion, 10)\n",
        "        self._d5 = nn.Linear(512 * block.expansion, 10)\n",
        "\n",
        "    def _make_layer(self, block, planes, num_blocks, stride):\n",
        "        strides = [stride] + [1] * (num_blocks - 1)\n",
        "        layers = []\n",
        "        for stride in strides:\n",
        "            layers.append(block(self.in_planes, planes, stride))\n",
        "            self.in_planes = planes * block.expansion\n",
        "        return nn.Sequential(*layers)\n",
        "\n",
        "    def forward(self, x):\n",
        "        out = F.relu(self.bn1(self.conv1(x)))\n",
        "        out = self.layer1(out)\n",
        "        out = self.layer2(out)\n",
        "        out = self.layer3(out)\n",
        "        out = self.layer4(out)\n",
        "        out = F.avg_pool2d(out, 4)\n",
        "        out = out.view(out.size(0), -1)\n",
        "        length_logits, digits_logits = self._d_length(out), [self._d1(out),\n",
        "                                                             self._d2(out),\n",
        "                                                             self._d3(out),\n",
        "                                                             self._d4(out),\n",
        "                                                             self._d5(out)]\n",
        "        return length_logits, digits_logits\n",
        "\n",
        "\n",
        "def ResNet18(num_classes):\n",
        "    return ResNet(BasicBlock, [2, 2, 2, 2], num_classes)\n",
        "\n",
        "\n",
        "def ResNet34(num_classes):\n",
        "    return ResNet(BasicBlock, [3, 4, 6, 3], num_classes)\n",
        "\n",
        "\n",
        "def ResNet50(num_classes):\n",
        "    return ResNet(Bottleneck, [3, 4, 6, 3], num_classes)\n",
        "\n",
        "\n",
        "def ResNet101(num_classes):\n",
        "    return ResNet(Bottleneck, [3, 4, 23, 3], num_classes)\n",
        "\n",
        "\n",
        "def ResNet152(num_classes):\n",
        "    return ResNet(Bottleneck, [3, 8, 36, 3], num_classes)\n"
      ],
      "execution_count": 0,
      "outputs": []
    }
  ]
}